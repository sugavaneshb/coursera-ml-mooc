{
 "cells": [
  {
   "cell_type": "markdown",
   "metadata": {},
   "source": [
    "# Bookmarks"
   ]
  },
  {
   "cell_type": "markdown",
   "metadata": {},
   "source": [
    "I will use this notebook to add all my reference links that I used for various purposes. Like latex symbol references, stack overflow, math stack exchange help pages, gitbooks, installation help pages, anything and everything that I used for this course"
   ]
  },
  {
   "cell_type": "markdown",
   "metadata": {},
   "source": [
    "## Graph Create / SFrame related help"
   ]
  },
  {
   "cell_type": "markdown",
   "metadata": {},
   "source": [
    "* [Installing Graphlab create from Command line](https://dato.com/download/install-graphlab-create-command-line.html)\n",
    "* [Dato's Graphlab User guide github repo](https://github.com/dato-code/userguide)"
   ]
  },
  {
   "cell_type": "markdown",
   "metadata": {},
   "source": [
    "## Latex related help"
   ]
  },
  {
   "cell_type": "markdown",
   "metadata": {},
   "source": [
    "* [bar, overlines on symbols](http://tex.stackexchange.com/questions/98028/bar-vs-overline-when-to-use-what-semantically)\n",
    "* [Wikia Latex symbols - Most comprehensive](http://latex.wikia.com/wiki/List_of_LaTeX_symbols)\n",
    "* [MathJax Tutorial from Math.stackExchange](http://meta.math.stackexchange.com/questions/5020/mathjax-basic-tutorial-and-quick-reference)\n",
    "* [MathJax Official Documentation](http://docs.mathjax.org/en/latest/tex.html?highlight=hat)\n",
    "* [Another documentation on Latex - Used for subscripts and superscripts](https://www.sharelatex.com/learn/Subscripts_and_superscripts)\n",
    "* [Detexify - Online tool to give latex notations of your hand drawn symbols](http://detexify.kirelabs.org/classify.html)\n",
    "* [Downloadable Latex Symbols file](http://tug.ctan.org/info/symbols/comprehensive/symbols-a4.pdf)\n",
    "* [Wiki of Latex Symbols from AOPS](https://www.artofproblemsolving.com/wiki/index.php/LaTeX:Symbols)\n",
    "* [Another University source for Latex symbols](http://web.ift.uib.no/Teori/KURS/WRK/TeX/symALL.html)"
   ]
  },
  {
   "cell_type": "markdown",
   "metadata": {},
   "source": [
    "## ML Concepts Tutorials / references"
   ]
  },
  {
   "cell_type": "markdown",
   "metadata": {},
   "source": [
    "* [Our course comes first! :D](https://www.coursera.org/learn/ml-foundations)\n",
    "* [My Personal Trello board of various resources for ML](https://trello.com/b/lI4SC5El/machine-learning) **Note**: The link is private and can be accessed only by me as of the moment."
   ]
  },
  {
   "cell_type": "markdown",
   "metadata": {},
   "source": [
    "## Jupyter / iPython Help pages / references"
   ]
  },
  {
   "cell_type": "markdown",
   "metadata": {},
   "source": [
    "* [Rich Display System in Jupyter / iPython tutorial](http://nbviewer.jupyter.org/github/ipython/ipython/blob/1.x/examples/notebooks/Part%205%20-%20Rich%20Display%20System.ipynb)\n",
    "* [Keyboard shortcuts for Jupyter / iPython](https://gist.github.com/sugavaneshb/838f5a980b94cf12363bc19ec210ec86)"
   ]
  },
  {
   "cell_type": "markdown",
   "metadata": {},
   "source": [
    "## Troubleshooting"
   ]
  },
  {
   "cell_type": "markdown",
   "metadata": {},
   "source": [
    "* [Fixing unable to uninstall six issue. The discussion here helped me unblock myself](https://github.com/aws/aws-cli/issues/1522)"
   ]
  },
  {
   "cell_type": "markdown",
   "metadata": {},
   "source": [
    "## Assorted help pages & External links"
   ]
  },
  {
   "cell_type": "markdown",
   "metadata": {},
   "source": [
    "* [On Anaconda, Python Distribution system](https://www.continuum.io/why-anaconda)\n",
    "* [Sci-kit learn](http://scikit-learn.org/stable/)\n",
    "* [Setting email in git](https://help.github.com/articles/setting-your-email-in-git/)\n",
    "* [Kaggle Competitions - Recommendations from Quora. Use this to put your skills to test](https://www.quora.com/What-Kaggle-competitions-should-a-beginner-start-with-1)\n",
    "* [Karl Rosaen's list of resources, his plan for ML study in Learning-sabbatical. Look for the resources, external links, books and notebooks](http://karlrosaen.com/ml/)\n",
    "* [Another Open source Data Science Curriculum](https://github.com/datasciencemasters/go)"
   ]
  },
  {
   "cell_type": "code",
   "execution_count": null,
   "metadata": {
    "collapsed": true
   },
   "outputs": [],
   "source": []
  }
 ],
 "metadata": {
  "kernelspec": {
   "display_name": "Python 2",
   "language": "python",
   "name": "python2"
  },
  "language_info": {
   "codemirror_mode": {
    "name": "ipython",
    "version": 2
   },
   "file_extension": ".py",
   "mimetype": "text/x-python",
   "name": "python",
   "nbconvert_exporter": "python",
   "pygments_lexer": "ipython2",
   "version": "2.7.11"
  }
 },
 "nbformat": 4,
 "nbformat_minor": 0
}
