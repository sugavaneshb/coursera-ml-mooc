{
 "cells": [
  {
   "cell_type": "markdown",
   "metadata": {},
   "source": [
    "Now that I am done with brushing up my python skills, picking up jupyter and SFrame/Graphlab toolkit, let's proceed to first week of classes. i.e., Second week of the course\n",
    "\n",
    "<pre> begin Regressions </pre>"
   ]
  },
  {
   "cell_type": "markdown",
   "metadata": {},
   "source": [
    "#### Regression"
   ]
  },
  {
   "cell_type": "markdown",
   "metadata": {},
   "source": [
    "When plotting graphs, \n",
    "* the x-axis is called ** *co-variate* ** or ** *predictor* ** or ** *independent variable* **.\n",
    "* the y-axis is called ** *response* ** or ** *observation* ** or ***dependent variable***\n"
   ]
  },
  {
   "cell_type": "markdown",
   "metadata": {},
   "source": [
    "###### Linear Regression"
   ]
  },
  {
   "cell_type": "markdown",
   "metadata": {},
   "source": [
    "***Residual sum of squares*** is one of the most commonly used cost estimate for how good your model is."
   ]
  },
  {
   "cell_type": "code",
   "execution_count": 7,
   "metadata": {
    "collapsed": false
   },
   "outputs": [
    {
     "data": {
      "text/latex": [
       "$$\\sum ((\\$_{house i} - (w_0 + w_1 * sqr.ft._{house i}))^2) + \\hat{y}$$"
      ],
      "text/plain": [
       "<IPython.core.display.Math object>"
      ]
     },
     "execution_count": 7,
     "metadata": {},
     "output_type": "execute_result"
    }
   ],
   "source": [
    "from IPython.display import Math\n",
    "Math(r'\\sum ((\\$_{house i} - (w_0 + w_1 * sqr.ft._{house i}))^2) + \\hat{y}') # formulae to calculate the residual sum of squares"
   ]
  },
  {
   "cell_type": "markdown",
   "metadata": {},
   "source": [
    "w0, w1 are the intercept and slope of various lines we are going to consider"
   ]
  },
  {
   "cell_type": "markdown",
   "metadata": {},
   "source": [
    "Even if we consider a parabola where the function would involve squares like `w0 + w1x + w2x^2` because even x^2 is considered a feature here. And the parameters are not squared if you observe."
   ]
  },
  {
   "cell_type": "markdown",
   "metadata": {},
   "source": [
    "We can also **overfit** data by using 13th order polynomial. Called ***Overfitting*** Minimizes RSS (residual sum of squares) but is bad on predictions"
   ]
  },
  {
   "cell_type": "markdown",
   "metadata": {},
   "source": [
    "Introducing ***training set*** and ***test set***; ***training error*** and ***test error***"
   ]
  },
  {
   "cell_type": "markdown",
   "metadata": {},
   "source": [
    "Training curve and test curves. Training curves will tend to go down mostly. Test curves will go down and then go up for higher order polynomials"
   ]
  },
  {
   "cell_type": "markdown",
   "metadata": {},
   "source": [
    "More features -> Hyper cube -> Hyper plane / square which is the best fitting model"
   ]
  },
  {
   "cell_type": "markdown",
   "metadata": {},
   "source": [
    "Examples of regression: Stock prediction, Salary prediction (;)), tweet popularity, smart houses (with distributed sensors)"
   ]
  },
  {
   "cell_type": "code",
   "execution_count": null,
   "metadata": {
    "collapsed": true
   },
   "outputs": [],
   "source": []
  }
 ],
 "metadata": {
  "kernelspec": {
   "display_name": "Python 2",
   "language": "python",
   "name": "python2"
  },
  "language_info": {
   "codemirror_mode": {
    "name": "ipython",
    "version": 2
   },
   "file_extension": ".py",
   "mimetype": "text/x-python",
   "name": "python",
   "nbconvert_exporter": "python",
   "pygments_lexer": "ipython2",
   "version": "2.7.11"
  }
 },
 "nbformat": 4,
 "nbformat_minor": 0
}
