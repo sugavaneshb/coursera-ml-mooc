{
 "cells": [
  {
   "cell_type": "markdown",
   "metadata": {},
   "source": [
    "This was done as part of Week 6 only but hey! this was after the normal quiz and assignments that usually ends the week. So, I will call it week 7."
   ]
  },
  {
   "cell_type": "markdown",
   "metadata": {},
   "source": [
    "## Deploying a ML service"
   ]
  },
  {
   "cell_type": "markdown",
   "metadata": {},
   "source": [
    "Deployment, Evaluation, Management, Monitoring"
   ]
  },
  {
   "cell_type": "markdown",
   "metadata": {},
   "source": [
    "For Deployment, we need to use both offline metrics and online metrics like whether the user clicked recommendations alongside RSME or sum of square errors. \n",
    "\n",
    "How to manage between different models based on data updates? Need to track both offline and online metrics. Use A/B testing by serving one batch of users Model A and others Model B and monitor the efficiency."
   ]
  },
  {
   "cell_type": "markdown",
   "metadata": {},
   "source": [
    "### Challenges in ML"
   ]
  },
  {
   "cell_type": "markdown",
   "metadata": {},
   "source": [
    "- Model Selection - large number of models and choosing among them\n",
    "- Feature Engineering / representation - how to represent our data? word data or n-grams or tf-idf or normalized?\n",
    "- Scaling in dimensions with dataset getting bigger and bigger; models are getting bigger \n",
    "- CPUs stopped getting faster about a decade ago somewhere around 2004 - leveraging GPUs, AWS \n",
    "- How to use AWS / GPUs and other architectures in ML? - Programmability / data distribution / failures\n"
   ]
  },
  {
   "cell_type": "markdown",
   "metadata": {},
   "source": [
    "*Personalization* is one of the tombstones of ML - personalized medicine, recommendations, recipes, self-driving, adaptable technology"
   ]
  },
  {
   "cell_type": "markdown",
   "metadata": {},
   "source": []
  }
 ],
 "metadata": {
  "kernelspec": {
   "display_name": "Python 2",
   "language": "python",
   "name": "python2"
  },
  "language_info": {
   "codemirror_mode": {
    "name": "ipython",
    "version": 2
   },
   "file_extension": ".py",
   "mimetype": "text/x-python",
   "name": "python",
   "nbconvert_exporter": "python",
   "pygments_lexer": "ipython2",
   "version": "2.7.11"
  }
 },
 "nbformat": 4,
 "nbformat_minor": 0
}
