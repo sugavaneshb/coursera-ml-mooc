{
 "cells": [
  {
   "cell_type": "markdown",
   "metadata": {},
   "source": [
    "Need to brush on my basics again. God! This is going to take time!"
   ]
  },
  {
   "cell_type": "code",
   "execution_count": 1,
   "metadata": {
    "collapsed": true
   },
   "outputs": [],
   "source": [
    "import graphlab"
   ]
  },
  {
   "cell_type": "markdown",
   "metadata": {
    "collapsed": true
   },
   "source": [
    "The magnitude of the slope / intercept depends on units of both the features and observations"
   ]
  },
  {
   "cell_type": "markdown",
   "metadata": {},
   "source": [
    "ML algorithm will help you identify the weights for the model. Minimize the cost / Optimization Problem\n",
    "\n",
    "- concave looks like a cave.\n",
    "- See it from the view point of x axis\n",
    "\n",
    "for concave / convex functions, maximum and minimum can be obtained by doing a derivative = 0. For other functions, there are multiple/no solutions for derivatives = 0. Remember that we can use the second derivative to determine if the function is concave or convex."
   ]
  },
  {
   "cell_type": "markdown",
   "metadata": {},
   "source": [
    "Other way to determine that max/min is using hill climbing. To move the w to the right / left. \n",
    "\n",
    "<code> w(t + 1) = w(t) + eida* dg(w)/dw </code> \n",
    "where t is the iteration number and eida is the step size\n",
    "\n",
    "For minimum, use - instead of +\n",
    "\n",
    "* when the derivative is positive, we have to decrease w\n",
    "* when the derivative is negative, we have to increase w. (and vice versa for maximun)"
   ]
  },
  {
   "cell_type": "markdown",
   "metadata": {},
   "source": [
    "How to estimate the step size? For fixed step size, it can take too many iterations. So, common logic is,\n",
    "\n",
    "<code> eida(t) = alpha/t or alpha/sqrt(t) </code>"
   ]
  },
  {
   "cell_type": "markdown",
   "metadata": {},
   "source": [
    "Generally derivative should be equal to 0. For practical purposes, it is less than epsilon (a very small absolute value / threshold) - is the optimum value"
   ]
  },
  {
   "cell_type": "code",
   "execution_count": null,
   "metadata": {
    "collapsed": true
   },
   "outputs": [],
   "source": []
  }
 ],
 "metadata": {
  "kernelspec": {
   "display_name": "Python 2",
   "language": "python",
   "name": "python2"
  },
  "language_info": {
   "codemirror_mode": {
    "name": "ipython",
    "version": 2
   },
   "file_extension": ".py",
   "mimetype": "text/x-python",
   "name": "python",
   "nbconvert_exporter": "python",
   "pygments_lexer": "ipython2",
   "version": "2.7.13"
  }
 },
 "nbformat": 4,
 "nbformat_minor": 1
}
